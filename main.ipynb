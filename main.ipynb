{
 "cells": [
  {
   "metadata": {},
   "cell_type": "markdown",
   "source": "### Importing libraries",
   "id": "67ac1225f8cc25d4"
  },
  {
   "cell_type": "code",
   "id": "initial_id",
   "metadata": {
    "collapsed": true,
    "ExecuteTime": {
     "end_time": "2024-12-31T03:49:29.519621Z",
     "start_time": "2024-12-31T03:49:29.506089Z"
    }
   },
   "source": [
    "import pandas as pd\n",
    "import numpy as np\n",
    "import matplotlib.pyplot as plt\n",
    "import seaborn as sns"
   ],
   "outputs": [],
   "execution_count": 48
  },
  {
   "metadata": {},
   "cell_type": "markdown",
   "source": "### Import data",
   "id": "ed2b628b7d5a46c8"
  },
  {
   "metadata": {
    "ExecuteTime": {
     "end_time": "2024-12-31T03:49:29.607041Z",
     "start_time": "2024-12-31T03:49:29.581046Z"
    }
   },
   "cell_type": "code",
   "source": "df = sns.load_dataset(\"titanic\")",
   "id": "7eb025fb4d169754",
   "outputs": [],
   "execution_count": 49
  },
  {
   "metadata": {},
   "cell_type": "markdown",
   "source": "### Data Understanding",
   "id": "1c9320b99ab47dc9"
  },
  {
   "metadata": {
    "ExecuteTime": {
     "end_time": "2024-12-31T03:49:29.641057Z",
     "start_time": "2024-12-31T03:49:29.628057Z"
    }
   },
   "cell_type": "code",
   "source": "df.shape",
   "id": "ab64690fb7988625",
   "outputs": [
    {
     "data": {
      "text/plain": [
       "(891, 15)"
      ]
     },
     "execution_count": 50,
     "metadata": {},
     "output_type": "execute_result"
    }
   ],
   "execution_count": 50
  },
  {
   "metadata": {
    "ExecuteTime": {
     "end_time": "2024-12-31T03:49:29.716891Z",
     "start_time": "2024-12-31T03:49:29.691896Z"
    }
   },
   "cell_type": "code",
   "source": "df.info()",
   "id": "f813777748693986",
   "outputs": [
    {
     "name": "stdout",
     "output_type": "stream",
     "text": [
      "<class 'pandas.core.frame.DataFrame'>\n",
      "RangeIndex: 891 entries, 0 to 890\n",
      "Data columns (total 15 columns):\n",
      " #   Column       Non-Null Count  Dtype   \n",
      "---  ------       --------------  -----   \n",
      " 0   survived     891 non-null    int64   \n",
      " 1   pclass       891 non-null    int64   \n",
      " 2   sex          891 non-null    object  \n",
      " 3   age          714 non-null    float64 \n",
      " 4   sibsp        891 non-null    int64   \n",
      " 5   parch        891 non-null    int64   \n",
      " 6   fare         891 non-null    float64 \n",
      " 7   embarked     889 non-null    object  \n",
      " 8   class        891 non-null    category\n",
      " 9   who          891 non-null    object  \n",
      " 10  adult_male   891 non-null    bool    \n",
      " 11  deck         203 non-null    category\n",
      " 12  embark_town  889 non-null    object  \n",
      " 13  alive        891 non-null    object  \n",
      " 14  alone        891 non-null    bool    \n",
      "dtypes: bool(2), category(2), float64(2), int64(4), object(5)\n",
      "memory usage: 80.7+ KB\n"
     ]
    }
   ],
   "execution_count": 51
  },
  {
   "metadata": {
    "ExecuteTime": {
     "end_time": "2024-12-31T03:49:29.872185Z",
     "start_time": "2024-12-31T03:49:29.814470Z"
    }
   },
   "cell_type": "code",
   "source": "df.describe()",
   "id": "e3297d3cbbbc72f4",
   "outputs": [
    {
     "data": {
      "text/plain": [
       "         survived      pclass         age       sibsp       parch        fare\n",
       "count  891.000000  891.000000  714.000000  891.000000  891.000000  891.000000\n",
       "mean     0.383838    2.308642   29.699118    0.523008    0.381594   32.204208\n",
       "std      0.486592    0.836071   14.526497    1.102743    0.806057   49.693429\n",
       "min      0.000000    1.000000    0.420000    0.000000    0.000000    0.000000\n",
       "25%      0.000000    2.000000   20.125000    0.000000    0.000000    7.910400\n",
       "50%      0.000000    3.000000   28.000000    0.000000    0.000000   14.454200\n",
       "75%      1.000000    3.000000   38.000000    1.000000    0.000000   31.000000\n",
       "max      1.000000    3.000000   80.000000    8.000000    6.000000  512.329200"
      ],
      "text/html": [
       "<div>\n",
       "<style scoped>\n",
       "    .dataframe tbody tr th:only-of-type {\n",
       "        vertical-align: middle;\n",
       "    }\n",
       "\n",
       "    .dataframe tbody tr th {\n",
       "        vertical-align: top;\n",
       "    }\n",
       "\n",
       "    .dataframe thead th {\n",
       "        text-align: right;\n",
       "    }\n",
       "</style>\n",
       "<table border=\"1\" class=\"dataframe\">\n",
       "  <thead>\n",
       "    <tr style=\"text-align: right;\">\n",
       "      <th></th>\n",
       "      <th>survived</th>\n",
       "      <th>pclass</th>\n",
       "      <th>age</th>\n",
       "      <th>sibsp</th>\n",
       "      <th>parch</th>\n",
       "      <th>fare</th>\n",
       "    </tr>\n",
       "  </thead>\n",
       "  <tbody>\n",
       "    <tr>\n",
       "      <th>count</th>\n",
       "      <td>891.000000</td>\n",
       "      <td>891.000000</td>\n",
       "      <td>714.000000</td>\n",
       "      <td>891.000000</td>\n",
       "      <td>891.000000</td>\n",
       "      <td>891.000000</td>\n",
       "    </tr>\n",
       "    <tr>\n",
       "      <th>mean</th>\n",
       "      <td>0.383838</td>\n",
       "      <td>2.308642</td>\n",
       "      <td>29.699118</td>\n",
       "      <td>0.523008</td>\n",
       "      <td>0.381594</td>\n",
       "      <td>32.204208</td>\n",
       "    </tr>\n",
       "    <tr>\n",
       "      <th>std</th>\n",
       "      <td>0.486592</td>\n",
       "      <td>0.836071</td>\n",
       "      <td>14.526497</td>\n",
       "      <td>1.102743</td>\n",
       "      <td>0.806057</td>\n",
       "      <td>49.693429</td>\n",
       "    </tr>\n",
       "    <tr>\n",
       "      <th>min</th>\n",
       "      <td>0.000000</td>\n",
       "      <td>1.000000</td>\n",
       "      <td>0.420000</td>\n",
       "      <td>0.000000</td>\n",
       "      <td>0.000000</td>\n",
       "      <td>0.000000</td>\n",
       "    </tr>\n",
       "    <tr>\n",
       "      <th>25%</th>\n",
       "      <td>0.000000</td>\n",
       "      <td>2.000000</td>\n",
       "      <td>20.125000</td>\n",
       "      <td>0.000000</td>\n",
       "      <td>0.000000</td>\n",
       "      <td>7.910400</td>\n",
       "    </tr>\n",
       "    <tr>\n",
       "      <th>50%</th>\n",
       "      <td>0.000000</td>\n",
       "      <td>3.000000</td>\n",
       "      <td>28.000000</td>\n",
       "      <td>0.000000</td>\n",
       "      <td>0.000000</td>\n",
       "      <td>14.454200</td>\n",
       "    </tr>\n",
       "    <tr>\n",
       "      <th>75%</th>\n",
       "      <td>1.000000</td>\n",
       "      <td>3.000000</td>\n",
       "      <td>38.000000</td>\n",
       "      <td>1.000000</td>\n",
       "      <td>0.000000</td>\n",
       "      <td>31.000000</td>\n",
       "    </tr>\n",
       "    <tr>\n",
       "      <th>max</th>\n",
       "      <td>1.000000</td>\n",
       "      <td>3.000000</td>\n",
       "      <td>80.000000</td>\n",
       "      <td>8.000000</td>\n",
       "      <td>6.000000</td>\n",
       "      <td>512.329200</td>\n",
       "    </tr>\n",
       "  </tbody>\n",
       "</table>\n",
       "</div>"
      ]
     },
     "execution_count": 52,
     "metadata": {},
     "output_type": "execute_result"
    }
   ],
   "execution_count": 52
  },
  {
   "metadata": {
    "ExecuteTime": {
     "end_time": "2024-12-31T03:49:30.062899Z",
     "start_time": "2024-12-31T03:49:30.028503Z"
    }
   },
   "cell_type": "code",
   "source": "df.sample(10)",
   "id": "22d5e30b0f07954d",
   "outputs": [
    {
     "data": {
      "text/plain": [
       "     survived  pclass     sex   age  sibsp  parch      fare embarked   class  \\\n",
       "352         0       3    male  15.0      1      1    7.2292        C   Third   \n",
       "520         1       1  female  30.0      0      0   93.5000        S   First   \n",
       "879         1       1  female  56.0      0      1   83.1583        C   First   \n",
       "87          0       3    male   NaN      0      0    8.0500        S   Third   \n",
       "297         0       1  female   2.0      1      2  151.5500        S   First   \n",
       "443         1       2  female  28.0      0      0   13.0000        S  Second   \n",
       "747         1       2  female  30.0      0      0   13.0000        S  Second   \n",
       "420         0       3    male   NaN      0      0    7.8958        C   Third   \n",
       "805         0       3    male  31.0      0      0    7.7750        S   Third   \n",
       "650         0       3    male   NaN      0      0    7.8958        S   Third   \n",
       "\n",
       "       who  adult_male deck  embark_town alive  alone  \n",
       "352  child       False  NaN    Cherbourg    no  False  \n",
       "520  woman       False    B  Southampton   yes   True  \n",
       "879  woman       False    C    Cherbourg   yes  False  \n",
       "87     man        True  NaN  Southampton    no   True  \n",
       "297  child       False    C  Southampton    no  False  \n",
       "443  woman       False  NaN  Southampton   yes   True  \n",
       "747  woman       False  NaN  Southampton   yes   True  \n",
       "420    man        True  NaN    Cherbourg    no   True  \n",
       "805    man        True  NaN  Southampton    no   True  \n",
       "650    man        True  NaN  Southampton    no   True  "
      ],
      "text/html": [
       "<div>\n",
       "<style scoped>\n",
       "    .dataframe tbody tr th:only-of-type {\n",
       "        vertical-align: middle;\n",
       "    }\n",
       "\n",
       "    .dataframe tbody tr th {\n",
       "        vertical-align: top;\n",
       "    }\n",
       "\n",
       "    .dataframe thead th {\n",
       "        text-align: right;\n",
       "    }\n",
       "</style>\n",
       "<table border=\"1\" class=\"dataframe\">\n",
       "  <thead>\n",
       "    <tr style=\"text-align: right;\">\n",
       "      <th></th>\n",
       "      <th>survived</th>\n",
       "      <th>pclass</th>\n",
       "      <th>sex</th>\n",
       "      <th>age</th>\n",
       "      <th>sibsp</th>\n",
       "      <th>parch</th>\n",
       "      <th>fare</th>\n",
       "      <th>embarked</th>\n",
       "      <th>class</th>\n",
       "      <th>who</th>\n",
       "      <th>adult_male</th>\n",
       "      <th>deck</th>\n",
       "      <th>embark_town</th>\n",
       "      <th>alive</th>\n",
       "      <th>alone</th>\n",
       "    </tr>\n",
       "  </thead>\n",
       "  <tbody>\n",
       "    <tr>\n",
       "      <th>352</th>\n",
       "      <td>0</td>\n",
       "      <td>3</td>\n",
       "      <td>male</td>\n",
       "      <td>15.0</td>\n",
       "      <td>1</td>\n",
       "      <td>1</td>\n",
       "      <td>7.2292</td>\n",
       "      <td>C</td>\n",
       "      <td>Third</td>\n",
       "      <td>child</td>\n",
       "      <td>False</td>\n",
       "      <td>NaN</td>\n",
       "      <td>Cherbourg</td>\n",
       "      <td>no</td>\n",
       "      <td>False</td>\n",
       "    </tr>\n",
       "    <tr>\n",
       "      <th>520</th>\n",
       "      <td>1</td>\n",
       "      <td>1</td>\n",
       "      <td>female</td>\n",
       "      <td>30.0</td>\n",
       "      <td>0</td>\n",
       "      <td>0</td>\n",
       "      <td>93.5000</td>\n",
       "      <td>S</td>\n",
       "      <td>First</td>\n",
       "      <td>woman</td>\n",
       "      <td>False</td>\n",
       "      <td>B</td>\n",
       "      <td>Southampton</td>\n",
       "      <td>yes</td>\n",
       "      <td>True</td>\n",
       "    </tr>\n",
       "    <tr>\n",
       "      <th>879</th>\n",
       "      <td>1</td>\n",
       "      <td>1</td>\n",
       "      <td>female</td>\n",
       "      <td>56.0</td>\n",
       "      <td>0</td>\n",
       "      <td>1</td>\n",
       "      <td>83.1583</td>\n",
       "      <td>C</td>\n",
       "      <td>First</td>\n",
       "      <td>woman</td>\n",
       "      <td>False</td>\n",
       "      <td>C</td>\n",
       "      <td>Cherbourg</td>\n",
       "      <td>yes</td>\n",
       "      <td>False</td>\n",
       "    </tr>\n",
       "    <tr>\n",
       "      <th>87</th>\n",
       "      <td>0</td>\n",
       "      <td>3</td>\n",
       "      <td>male</td>\n",
       "      <td>NaN</td>\n",
       "      <td>0</td>\n",
       "      <td>0</td>\n",
       "      <td>8.0500</td>\n",
       "      <td>S</td>\n",
       "      <td>Third</td>\n",
       "      <td>man</td>\n",
       "      <td>True</td>\n",
       "      <td>NaN</td>\n",
       "      <td>Southampton</td>\n",
       "      <td>no</td>\n",
       "      <td>True</td>\n",
       "    </tr>\n",
       "    <tr>\n",
       "      <th>297</th>\n",
       "      <td>0</td>\n",
       "      <td>1</td>\n",
       "      <td>female</td>\n",
       "      <td>2.0</td>\n",
       "      <td>1</td>\n",
       "      <td>2</td>\n",
       "      <td>151.5500</td>\n",
       "      <td>S</td>\n",
       "      <td>First</td>\n",
       "      <td>child</td>\n",
       "      <td>False</td>\n",
       "      <td>C</td>\n",
       "      <td>Southampton</td>\n",
       "      <td>no</td>\n",
       "      <td>False</td>\n",
       "    </tr>\n",
       "    <tr>\n",
       "      <th>443</th>\n",
       "      <td>1</td>\n",
       "      <td>2</td>\n",
       "      <td>female</td>\n",
       "      <td>28.0</td>\n",
       "      <td>0</td>\n",
       "      <td>0</td>\n",
       "      <td>13.0000</td>\n",
       "      <td>S</td>\n",
       "      <td>Second</td>\n",
       "      <td>woman</td>\n",
       "      <td>False</td>\n",
       "      <td>NaN</td>\n",
       "      <td>Southampton</td>\n",
       "      <td>yes</td>\n",
       "      <td>True</td>\n",
       "    </tr>\n",
       "    <tr>\n",
       "      <th>747</th>\n",
       "      <td>1</td>\n",
       "      <td>2</td>\n",
       "      <td>female</td>\n",
       "      <td>30.0</td>\n",
       "      <td>0</td>\n",
       "      <td>0</td>\n",
       "      <td>13.0000</td>\n",
       "      <td>S</td>\n",
       "      <td>Second</td>\n",
       "      <td>woman</td>\n",
       "      <td>False</td>\n",
       "      <td>NaN</td>\n",
       "      <td>Southampton</td>\n",
       "      <td>yes</td>\n",
       "      <td>True</td>\n",
       "    </tr>\n",
       "    <tr>\n",
       "      <th>420</th>\n",
       "      <td>0</td>\n",
       "      <td>3</td>\n",
       "      <td>male</td>\n",
       "      <td>NaN</td>\n",
       "      <td>0</td>\n",
       "      <td>0</td>\n",
       "      <td>7.8958</td>\n",
       "      <td>C</td>\n",
       "      <td>Third</td>\n",
       "      <td>man</td>\n",
       "      <td>True</td>\n",
       "      <td>NaN</td>\n",
       "      <td>Cherbourg</td>\n",
       "      <td>no</td>\n",
       "      <td>True</td>\n",
       "    </tr>\n",
       "    <tr>\n",
       "      <th>805</th>\n",
       "      <td>0</td>\n",
       "      <td>3</td>\n",
       "      <td>male</td>\n",
       "      <td>31.0</td>\n",
       "      <td>0</td>\n",
       "      <td>0</td>\n",
       "      <td>7.7750</td>\n",
       "      <td>S</td>\n",
       "      <td>Third</td>\n",
       "      <td>man</td>\n",
       "      <td>True</td>\n",
       "      <td>NaN</td>\n",
       "      <td>Southampton</td>\n",
       "      <td>no</td>\n",
       "      <td>True</td>\n",
       "    </tr>\n",
       "    <tr>\n",
       "      <th>650</th>\n",
       "      <td>0</td>\n",
       "      <td>3</td>\n",
       "      <td>male</td>\n",
       "      <td>NaN</td>\n",
       "      <td>0</td>\n",
       "      <td>0</td>\n",
       "      <td>7.8958</td>\n",
       "      <td>S</td>\n",
       "      <td>Third</td>\n",
       "      <td>man</td>\n",
       "      <td>True</td>\n",
       "      <td>NaN</td>\n",
       "      <td>Southampton</td>\n",
       "      <td>no</td>\n",
       "      <td>True</td>\n",
       "    </tr>\n",
       "  </tbody>\n",
       "</table>\n",
       "</div>"
      ]
     },
     "execution_count": 53,
     "metadata": {},
     "output_type": "execute_result"
    }
   ],
   "execution_count": 53
  },
  {
   "metadata": {},
   "cell_type": "markdown",
   "source": "### Data Wrangling",
   "id": "1a1f38ef5a338b1f"
  },
  {
   "metadata": {},
   "cell_type": "markdown",
   "source": "#### Missing Values",
   "id": "10240755670d36ba"
  },
  {
   "metadata": {
    "ExecuteTime": {
     "end_time": "2024-12-31T03:49:30.324699Z",
     "start_time": "2024-12-31T03:49:30.306696Z"
    }
   },
   "cell_type": "code",
   "source": "df.isnull().sum()",
   "id": "482e9b6f32ba0300",
   "outputs": [
    {
     "data": {
      "text/plain": [
       "survived         0\n",
       "pclass           0\n",
       "sex              0\n",
       "age            177\n",
       "sibsp            0\n",
       "parch            0\n",
       "fare             0\n",
       "embarked         2\n",
       "class            0\n",
       "who              0\n",
       "adult_male       0\n",
       "deck           688\n",
       "embark_town      2\n",
       "alive            0\n",
       "alone            0\n",
       "dtype: int64"
      ]
     },
     "execution_count": 54,
     "metadata": {},
     "output_type": "execute_result"
    }
   ],
   "execution_count": 54
  },
  {
   "metadata": {},
   "cell_type": "markdown",
   "source": "##### Understanding age to fill the most appropirate value",
   "id": "5eddb6f8e611aeef"
  },
  {
   "metadata": {
    "ExecuteTime": {
     "end_time": "2024-12-31T03:49:30.681993Z",
     "start_time": "2024-12-31T03:49:30.646093Z"
    }
   },
   "cell_type": "code",
   "source": "df[df[\"age\"].isnull()]",
   "id": "b2cd55d1dc017c6b",
   "outputs": [
    {
     "data": {
      "text/plain": [
       "     survived  pclass     sex  age  sibsp  parch     fare embarked   class  \\\n",
       "5           0       3    male  NaN      0      0   8.4583        Q   Third   \n",
       "17          1       2    male  NaN      0      0  13.0000        S  Second   \n",
       "19          1       3  female  NaN      0      0   7.2250        C   Third   \n",
       "26          0       3    male  NaN      0      0   7.2250        C   Third   \n",
       "28          1       3  female  NaN      0      0   7.8792        Q   Third   \n",
       "..        ...     ...     ...  ...    ...    ...      ...      ...     ...   \n",
       "859         0       3    male  NaN      0      0   7.2292        C   Third   \n",
       "863         0       3  female  NaN      8      2  69.5500        S   Third   \n",
       "868         0       3    male  NaN      0      0   9.5000        S   Third   \n",
       "878         0       3    male  NaN      0      0   7.8958        S   Third   \n",
       "888         0       3  female  NaN      1      2  23.4500        S   Third   \n",
       "\n",
       "       who  adult_male deck  embark_town alive  alone  \n",
       "5      man        True  NaN   Queenstown    no   True  \n",
       "17     man        True  NaN  Southampton   yes   True  \n",
       "19   woman       False  NaN    Cherbourg   yes   True  \n",
       "26     man        True  NaN    Cherbourg    no   True  \n",
       "28   woman       False  NaN   Queenstown   yes   True  \n",
       "..     ...         ...  ...          ...   ...    ...  \n",
       "859    man        True  NaN    Cherbourg    no   True  \n",
       "863  woman       False  NaN  Southampton    no  False  \n",
       "868    man        True  NaN  Southampton    no   True  \n",
       "878    man        True  NaN  Southampton    no   True  \n",
       "888  woman       False  NaN  Southampton    no  False  \n",
       "\n",
       "[177 rows x 15 columns]"
      ],
      "text/html": [
       "<div>\n",
       "<style scoped>\n",
       "    .dataframe tbody tr th:only-of-type {\n",
       "        vertical-align: middle;\n",
       "    }\n",
       "\n",
       "    .dataframe tbody tr th {\n",
       "        vertical-align: top;\n",
       "    }\n",
       "\n",
       "    .dataframe thead th {\n",
       "        text-align: right;\n",
       "    }\n",
       "</style>\n",
       "<table border=\"1\" class=\"dataframe\">\n",
       "  <thead>\n",
       "    <tr style=\"text-align: right;\">\n",
       "      <th></th>\n",
       "      <th>survived</th>\n",
       "      <th>pclass</th>\n",
       "      <th>sex</th>\n",
       "      <th>age</th>\n",
       "      <th>sibsp</th>\n",
       "      <th>parch</th>\n",
       "      <th>fare</th>\n",
       "      <th>embarked</th>\n",
       "      <th>class</th>\n",
       "      <th>who</th>\n",
       "      <th>adult_male</th>\n",
       "      <th>deck</th>\n",
       "      <th>embark_town</th>\n",
       "      <th>alive</th>\n",
       "      <th>alone</th>\n",
       "    </tr>\n",
       "  </thead>\n",
       "  <tbody>\n",
       "    <tr>\n",
       "      <th>5</th>\n",
       "      <td>0</td>\n",
       "      <td>3</td>\n",
       "      <td>male</td>\n",
       "      <td>NaN</td>\n",
       "      <td>0</td>\n",
       "      <td>0</td>\n",
       "      <td>8.4583</td>\n",
       "      <td>Q</td>\n",
       "      <td>Third</td>\n",
       "      <td>man</td>\n",
       "      <td>True</td>\n",
       "      <td>NaN</td>\n",
       "      <td>Queenstown</td>\n",
       "      <td>no</td>\n",
       "      <td>True</td>\n",
       "    </tr>\n",
       "    <tr>\n",
       "      <th>17</th>\n",
       "      <td>1</td>\n",
       "      <td>2</td>\n",
       "      <td>male</td>\n",
       "      <td>NaN</td>\n",
       "      <td>0</td>\n",
       "      <td>0</td>\n",
       "      <td>13.0000</td>\n",
       "      <td>S</td>\n",
       "      <td>Second</td>\n",
       "      <td>man</td>\n",
       "      <td>True</td>\n",
       "      <td>NaN</td>\n",
       "      <td>Southampton</td>\n",
       "      <td>yes</td>\n",
       "      <td>True</td>\n",
       "    </tr>\n",
       "    <tr>\n",
       "      <th>19</th>\n",
       "      <td>1</td>\n",
       "      <td>3</td>\n",
       "      <td>female</td>\n",
       "      <td>NaN</td>\n",
       "      <td>0</td>\n",
       "      <td>0</td>\n",
       "      <td>7.2250</td>\n",
       "      <td>C</td>\n",
       "      <td>Third</td>\n",
       "      <td>woman</td>\n",
       "      <td>False</td>\n",
       "      <td>NaN</td>\n",
       "      <td>Cherbourg</td>\n",
       "      <td>yes</td>\n",
       "      <td>True</td>\n",
       "    </tr>\n",
       "    <tr>\n",
       "      <th>26</th>\n",
       "      <td>0</td>\n",
       "      <td>3</td>\n",
       "      <td>male</td>\n",
       "      <td>NaN</td>\n",
       "      <td>0</td>\n",
       "      <td>0</td>\n",
       "      <td>7.2250</td>\n",
       "      <td>C</td>\n",
       "      <td>Third</td>\n",
       "      <td>man</td>\n",
       "      <td>True</td>\n",
       "      <td>NaN</td>\n",
       "      <td>Cherbourg</td>\n",
       "      <td>no</td>\n",
       "      <td>True</td>\n",
       "    </tr>\n",
       "    <tr>\n",
       "      <th>28</th>\n",
       "      <td>1</td>\n",
       "      <td>3</td>\n",
       "      <td>female</td>\n",
       "      <td>NaN</td>\n",
       "      <td>0</td>\n",
       "      <td>0</td>\n",
       "      <td>7.8792</td>\n",
       "      <td>Q</td>\n",
       "      <td>Third</td>\n",
       "      <td>woman</td>\n",
       "      <td>False</td>\n",
       "      <td>NaN</td>\n",
       "      <td>Queenstown</td>\n",
       "      <td>yes</td>\n",
       "      <td>True</td>\n",
       "    </tr>\n",
       "    <tr>\n",
       "      <th>...</th>\n",
       "      <td>...</td>\n",
       "      <td>...</td>\n",
       "      <td>...</td>\n",
       "      <td>...</td>\n",
       "      <td>...</td>\n",
       "      <td>...</td>\n",
       "      <td>...</td>\n",
       "      <td>...</td>\n",
       "      <td>...</td>\n",
       "      <td>...</td>\n",
       "      <td>...</td>\n",
       "      <td>...</td>\n",
       "      <td>...</td>\n",
       "      <td>...</td>\n",
       "      <td>...</td>\n",
       "    </tr>\n",
       "    <tr>\n",
       "      <th>859</th>\n",
       "      <td>0</td>\n",
       "      <td>3</td>\n",
       "      <td>male</td>\n",
       "      <td>NaN</td>\n",
       "      <td>0</td>\n",
       "      <td>0</td>\n",
       "      <td>7.2292</td>\n",
       "      <td>C</td>\n",
       "      <td>Third</td>\n",
       "      <td>man</td>\n",
       "      <td>True</td>\n",
       "      <td>NaN</td>\n",
       "      <td>Cherbourg</td>\n",
       "      <td>no</td>\n",
       "      <td>True</td>\n",
       "    </tr>\n",
       "    <tr>\n",
       "      <th>863</th>\n",
       "      <td>0</td>\n",
       "      <td>3</td>\n",
       "      <td>female</td>\n",
       "      <td>NaN</td>\n",
       "      <td>8</td>\n",
       "      <td>2</td>\n",
       "      <td>69.5500</td>\n",
       "      <td>S</td>\n",
       "      <td>Third</td>\n",
       "      <td>woman</td>\n",
       "      <td>False</td>\n",
       "      <td>NaN</td>\n",
       "      <td>Southampton</td>\n",
       "      <td>no</td>\n",
       "      <td>False</td>\n",
       "    </tr>\n",
       "    <tr>\n",
       "      <th>868</th>\n",
       "      <td>0</td>\n",
       "      <td>3</td>\n",
       "      <td>male</td>\n",
       "      <td>NaN</td>\n",
       "      <td>0</td>\n",
       "      <td>0</td>\n",
       "      <td>9.5000</td>\n",
       "      <td>S</td>\n",
       "      <td>Third</td>\n",
       "      <td>man</td>\n",
       "      <td>True</td>\n",
       "      <td>NaN</td>\n",
       "      <td>Southampton</td>\n",
       "      <td>no</td>\n",
       "      <td>True</td>\n",
       "    </tr>\n",
       "    <tr>\n",
       "      <th>878</th>\n",
       "      <td>0</td>\n",
       "      <td>3</td>\n",
       "      <td>male</td>\n",
       "      <td>NaN</td>\n",
       "      <td>0</td>\n",
       "      <td>0</td>\n",
       "      <td>7.8958</td>\n",
       "      <td>S</td>\n",
       "      <td>Third</td>\n",
       "      <td>man</td>\n",
       "      <td>True</td>\n",
       "      <td>NaN</td>\n",
       "      <td>Southampton</td>\n",
       "      <td>no</td>\n",
       "      <td>True</td>\n",
       "    </tr>\n",
       "    <tr>\n",
       "      <th>888</th>\n",
       "      <td>0</td>\n",
       "      <td>3</td>\n",
       "      <td>female</td>\n",
       "      <td>NaN</td>\n",
       "      <td>1</td>\n",
       "      <td>2</td>\n",
       "      <td>23.4500</td>\n",
       "      <td>S</td>\n",
       "      <td>Third</td>\n",
       "      <td>woman</td>\n",
       "      <td>False</td>\n",
       "      <td>NaN</td>\n",
       "      <td>Southampton</td>\n",
       "      <td>no</td>\n",
       "      <td>False</td>\n",
       "    </tr>\n",
       "  </tbody>\n",
       "</table>\n",
       "<p>177 rows × 15 columns</p>\n",
       "</div>"
      ]
     },
     "execution_count": 55,
     "metadata": {},
     "output_type": "execute_result"
    }
   ],
   "execution_count": 55
  },
  {
   "metadata": {
    "ExecuteTime": {
     "end_time": "2024-12-31T03:49:31.166490Z",
     "start_time": "2024-12-31T03:49:31.150507Z"
    }
   },
   "cell_type": "code",
   "source": "df[df[\"age\"].isnull()].groupby([\"who\", \"embark_town\"])[\"sex\"].count()",
   "id": "579837ad4ec7f68b",
   "outputs": [
    {
     "data": {
      "text/plain": [
       "who    embark_town\n",
       "man    Cherbourg      26\n",
       "       Queenstown     25\n",
       "       Southampton    73\n",
       "woman  Cherbourg      12\n",
       "       Queenstown     24\n",
       "       Southampton    17\n",
       "Name: sex, dtype: int64"
      ]
     },
     "execution_count": 56,
     "metadata": {},
     "output_type": "execute_result"
    }
   ],
   "execution_count": 56
  },
  {
   "metadata": {
    "ExecuteTime": {
     "end_time": "2024-12-31T03:49:31.556841Z",
     "start_time": "2024-12-31T03:49:31.528405Z"
    }
   },
   "cell_type": "code",
   "source": "df[df[\"age\"].isnull()].groupby(\"who\")[\"sex\"].describe()",
   "id": "848c13d2696fc8bc",
   "outputs": [
    {
     "data": {
      "text/plain": [
       "      count unique     top freq\n",
       "who                            \n",
       "man     124      1    male  124\n",
       "woman    53      1  female   53"
      ],
      "text/html": [
       "<div>\n",
       "<style scoped>\n",
       "    .dataframe tbody tr th:only-of-type {\n",
       "        vertical-align: middle;\n",
       "    }\n",
       "\n",
       "    .dataframe tbody tr th {\n",
       "        vertical-align: top;\n",
       "    }\n",
       "\n",
       "    .dataframe thead th {\n",
       "        text-align: right;\n",
       "    }\n",
       "</style>\n",
       "<table border=\"1\" class=\"dataframe\">\n",
       "  <thead>\n",
       "    <tr style=\"text-align: right;\">\n",
       "      <th></th>\n",
       "      <th>count</th>\n",
       "      <th>unique</th>\n",
       "      <th>top</th>\n",
       "      <th>freq</th>\n",
       "    </tr>\n",
       "    <tr>\n",
       "      <th>who</th>\n",
       "      <th></th>\n",
       "      <th></th>\n",
       "      <th></th>\n",
       "      <th></th>\n",
       "    </tr>\n",
       "  </thead>\n",
       "  <tbody>\n",
       "    <tr>\n",
       "      <th>man</th>\n",
       "      <td>124</td>\n",
       "      <td>1</td>\n",
       "      <td>male</td>\n",
       "      <td>124</td>\n",
       "    </tr>\n",
       "    <tr>\n",
       "      <th>woman</th>\n",
       "      <td>53</td>\n",
       "      <td>1</td>\n",
       "      <td>female</td>\n",
       "      <td>53</td>\n",
       "    </tr>\n",
       "  </tbody>\n",
       "</table>\n",
       "</div>"
      ]
     },
     "execution_count": 57,
     "metadata": {},
     "output_type": "execute_result"
    }
   ],
   "execution_count": 57
  },
  {
   "metadata": {
    "ExecuteTime": {
     "end_time": "2024-12-31T03:49:31.888313Z",
     "start_time": "2024-12-31T03:49:31.855649Z"
    }
   },
   "cell_type": "code",
   "source": "df.groupby([\"who\"])[\"age\"].describe()",
   "id": "476fc973c8d18df5",
   "outputs": [
    {
     "data": {
      "text/plain": [
       "       count       mean        std    min   25%   50%   75%   max\n",
       "who                                                              \n",
       "child   83.0   6.369518   4.729063   0.42   2.0   5.0   9.5  15.0\n",
       "man    413.0  33.173123  12.906908  16.00  23.0  30.0  40.0  80.0\n",
       "woman  218.0  32.000000  11.495441  16.00  23.0  30.0  39.0  63.0"
      ],
      "text/html": [
       "<div>\n",
       "<style scoped>\n",
       "    .dataframe tbody tr th:only-of-type {\n",
       "        vertical-align: middle;\n",
       "    }\n",
       "\n",
       "    .dataframe tbody tr th {\n",
       "        vertical-align: top;\n",
       "    }\n",
       "\n",
       "    .dataframe thead th {\n",
       "        text-align: right;\n",
       "    }\n",
       "</style>\n",
       "<table border=\"1\" class=\"dataframe\">\n",
       "  <thead>\n",
       "    <tr style=\"text-align: right;\">\n",
       "      <th></th>\n",
       "      <th>count</th>\n",
       "      <th>mean</th>\n",
       "      <th>std</th>\n",
       "      <th>min</th>\n",
       "      <th>25%</th>\n",
       "      <th>50%</th>\n",
       "      <th>75%</th>\n",
       "      <th>max</th>\n",
       "    </tr>\n",
       "    <tr>\n",
       "      <th>who</th>\n",
       "      <th></th>\n",
       "      <th></th>\n",
       "      <th></th>\n",
       "      <th></th>\n",
       "      <th></th>\n",
       "      <th></th>\n",
       "      <th></th>\n",
       "      <th></th>\n",
       "    </tr>\n",
       "  </thead>\n",
       "  <tbody>\n",
       "    <tr>\n",
       "      <th>child</th>\n",
       "      <td>83.0</td>\n",
       "      <td>6.369518</td>\n",
       "      <td>4.729063</td>\n",
       "      <td>0.42</td>\n",
       "      <td>2.0</td>\n",
       "      <td>5.0</td>\n",
       "      <td>9.5</td>\n",
       "      <td>15.0</td>\n",
       "    </tr>\n",
       "    <tr>\n",
       "      <th>man</th>\n",
       "      <td>413.0</td>\n",
       "      <td>33.173123</td>\n",
       "      <td>12.906908</td>\n",
       "      <td>16.00</td>\n",
       "      <td>23.0</td>\n",
       "      <td>30.0</td>\n",
       "      <td>40.0</td>\n",
       "      <td>80.0</td>\n",
       "    </tr>\n",
       "    <tr>\n",
       "      <th>woman</th>\n",
       "      <td>218.0</td>\n",
       "      <td>32.000000</td>\n",
       "      <td>11.495441</td>\n",
       "      <td>16.00</td>\n",
       "      <td>23.0</td>\n",
       "      <td>30.0</td>\n",
       "      <td>39.0</td>\n",
       "      <td>63.0</td>\n",
       "    </tr>\n",
       "  </tbody>\n",
       "</table>\n",
       "</div>"
      ]
     },
     "execution_count": 58,
     "metadata": {},
     "output_type": "execute_result"
    }
   ],
   "execution_count": 58
  },
  {
   "metadata": {
    "ExecuteTime": {
     "end_time": "2024-12-31T03:49:32.189792Z",
     "start_time": "2024-12-31T03:49:32.175708Z"
    }
   },
   "cell_type": "code",
   "source": "df.age.median()",
   "id": "e74d62e35da6cb24",
   "outputs": [
    {
     "data": {
      "text/plain": [
       "28.0"
      ]
     },
     "execution_count": 59,
     "metadata": {},
     "output_type": "execute_result"
    }
   ],
   "execution_count": 59
  },
  {
   "metadata": {
    "ExecuteTime": {
     "end_time": "2024-12-31T03:49:32.470857Z",
     "start_time": "2024-12-31T03:49:32.461112Z"
    }
   },
   "cell_type": "code",
   "source": "df[\"age\"].fillna(df.age.median(), inplace=True)",
   "id": "6ec2dc3f9a3efece",
   "outputs": [],
   "execution_count": 60
  },
  {
   "metadata": {},
   "cell_type": "markdown",
   "source": "#### Outlier Detection and Removal",
   "id": "95770556068f6adc"
  },
  {
   "metadata": {
    "ExecuteTime": {
     "end_time": "2024-12-31T03:49:33.198683Z",
     "start_time": "2024-12-31T03:49:32.660161Z"
    }
   },
   "cell_type": "code",
   "source": "plt.scatter(df[\"age\"], df[\"fare\"])",
   "id": "526786c32cff59a6",
   "outputs": [
    {
     "data": {
      "text/plain": [
       "<matplotlib.collections.PathCollection at 0x18d71c83c50>"
      ]
     },
     "execution_count": 61,
     "metadata": {},
     "output_type": "execute_result"
    },
    {
     "data": {
      "text/plain": [
       "<Figure size 640x480 with 1 Axes>"
      ],
      "image/png": "[encoded data removed]"
     },
     "metadata": {},
     "output_type": "display_data"
    }
   ],
   "execution_count": 61
  },
  {
   "metadata": {
    "ExecuteTime": {
     "end_time": "2024-12-31T03:49:33.533788Z",
     "start_time": "2024-12-31T03:49:33.279729Z"
    }
   },
   "cell_type": "code",
   "source": "plt.boxplot(df[[\"age\", \"fare\"]])",
   "id": "7c6c3cb73311699e",
   "outputs": [
    {
     "data": {
      "text/plain": [
       "{'whiskers': [<matplotlib.lines.Line2D at 0x18d72084090>,\n",
       "  <matplotlib.lines.Line2D at 0x18d7204be10>,\n",
       "  <matplotlib.lines.Line2D at 0x18d72087e10>,\n",
       "  <matplotlib.lines.Line2D at 0x18d7208c710>],\n",
       " 'caps': [<matplotlib.lines.Line2D at 0x18d72085310>,\n",
       "  <matplotlib.lines.Line2D at 0x18d72085c10>,\n",
       "  <matplotlib.lines.Line2D at 0x18d7208ced0>,\n",
       "  <matplotlib.lines.Line2D at 0x18d7208d710>],\n",
       " 'boxes': [<matplotlib.lines.Line2D at 0x18d72067690>,\n",
       "  <matplotlib.lines.Line2D at 0x18d72087610>],\n",
       " 'medians': [<matplotlib.lines.Line2D at 0x18d72086550>,\n",
       "  <matplotlib.lines.Line2D at 0x18d7208ded0>],\n",
       " 'fliers': [<matplotlib.lines.Line2D at 0x18d72086cd0>,\n",
       "  <matplotlib.lines.Line2D at 0x18d7208e750>],\n",
       " 'means': []}"
      ]
     },
     "execution_count": 62,
     "metadata": {},
     "output_type": "execute_result"
    },
    {
     "data": {
      "text/plain": [
       "<Figure size 640x480 with 1 Axes>"
      ],
      "image/png": "[encoded data removed]"
     },
     "metadata": {},
     "output_type": "display_data"
    }
   ],
   "execution_count": 62
  },
  {
   "metadata": {
    "ExecuteTime": {
     "end_time": "2024-12-31T03:49:33.628022Z",
     "start_time": "2024-12-31T03:49:33.608901Z"
    }
   },
   "cell_type": "code",
   "source": [
    "q1 = df['fare'].quantile(0.25)\n",
    "q3 = df['fare'].quantile(0.75)\n",
    "iqr = q3 - q1\n",
    "\n",
    "fence_low = q1 - 1.5 * iqr\n",
    "fence_high = q3 + 1.5 * iqr\n",
    "\n",
    "df = df.loc[(df['fare'] > fence_low) & (df['fare'] < fence_high)].reset_index(drop=True)\n"
   ],
   "id": "c7413152061a5fe1",
   "outputs": [],
   "execution_count": 63
  },
  {
   "metadata": {},
   "cell_type": "markdown",
   "source": "#### Unique values",
   "id": "509fb4b75d36e586"
  },
  {
   "metadata": {
    "ExecuteTime": {
     "end_time": "2024-12-31T03:49:33.677113Z",
     "start_time": "2024-12-31T03:49:33.652065Z"
    }
   },
   "cell_type": "code",
   "source": [
    "print(df[\"embarked\"].unique(), df[\"embark_town\"].unique())\n",
    "df[[\"embarked\", \"embark_town\"]].sample(5)"
   ],
   "id": "f32ac27e7131feb9",
   "outputs": [
    {
     "name": "stdout",
     "output_type": "stream",
     "text": [
      "['S' 'Q' 'C'] ['Southampton' 'Queenstown' 'Cherbourg']\n"
     ]
    },
    {
     "data": {
      "text/plain": [
       "    embarked  embark_town\n",
       "363        S  Southampton\n",
       "122        C    Cherbourg\n",
       "726        S  Southampton\n",
       "544        Q   Queenstown\n",
       "465        S  Southampton"
      ],
      "text/html": [
       "<div>\n",
       "<style scoped>\n",
       "    .dataframe tbody tr th:only-of-type {\n",
       "        vertical-align: middle;\n",
       "    }\n",
       "\n",
       "    .dataframe tbody tr th {\n",
       "        vertical-align: top;\n",
       "    }\n",
       "\n",
       "    .dataframe thead th {\n",
       "        text-align: right;\n",
       "    }\n",
       "</style>\n",
       "<table border=\"1\" class=\"dataframe\">\n",
       "  <thead>\n",
       "    <tr style=\"text-align: right;\">\n",
       "      <th></th>\n",
       "      <th>embarked</th>\n",
       "      <th>embark_town</th>\n",
       "    </tr>\n",
       "  </thead>\n",
       "  <tbody>\n",
       "    <tr>\n",
       "      <th>363</th>\n",
       "      <td>S</td>\n",
       "      <td>Southampton</td>\n",
       "    </tr>\n",
       "    <tr>\n",
       "      <th>122</th>\n",
       "      <td>C</td>\n",
       "      <td>Cherbourg</td>\n",
       "    </tr>\n",
       "    <tr>\n",
       "      <th>726</th>\n",
       "      <td>S</td>\n",
       "      <td>Southampton</td>\n",
       "    </tr>\n",
       "    <tr>\n",
       "      <th>544</th>\n",
       "      <td>Q</td>\n",
       "      <td>Queenstown</td>\n",
       "    </tr>\n",
       "    <tr>\n",
       "      <th>465</th>\n",
       "      <td>S</td>\n",
       "      <td>Southampton</td>\n",
       "    </tr>\n",
       "  </tbody>\n",
       "</table>\n",
       "</div>"
      ]
     },
     "execution_count": 64,
     "metadata": {},
     "output_type": "execute_result"
    }
   ],
   "execution_count": 64
  },
  {
   "metadata": {
    "ExecuteTime": {
     "end_time": "2024-12-31T03:49:33.803454Z",
     "start_time": "2024-12-31T03:49:33.783110Z"
    }
   },
   "cell_type": "code",
   "source": [
    "print(df[\"pclass\"].unique(), df[\"class\"].unique())\n",
    "df[[\"pclass\", \"class\"]].sample(5)"
   ],
   "id": "af4b23f993585a52",
   "outputs": [
    {
     "name": "stdout",
     "output_type": "stream",
     "text": [
      "[3 1 2] ['Third', 'First', 'Second']\n",
      "Categories (3, object): ['First', 'Second', 'Third']\n"
     ]
    },
    {
     "data": {
      "text/plain": [
       "     pclass  class\n",
       "523       1  First\n",
       "658       3  Third\n",
       "440       3  Third\n",
       "734       3  Third\n",
       "178       3  Third"
      ],
      "text/html": [
       "<div>\n",
       "<style scoped>\n",
       "    .dataframe tbody tr th:only-of-type {\n",
       "        vertical-align: middle;\n",
       "    }\n",
       "\n",
       "    .dataframe tbody tr th {\n",
       "        vertical-align: top;\n",
       "    }\n",
       "\n",
       "    .dataframe thead th {\n",
       "        text-align: right;\n",
       "    }\n",
       "</style>\n",
       "<table border=\"1\" class=\"dataframe\">\n",
       "  <thead>\n",
       "    <tr style=\"text-align: right;\">\n",
       "      <th></th>\n",
       "      <th>pclass</th>\n",
       "      <th>class</th>\n",
       "    </tr>\n",
       "  </thead>\n",
       "  <tbody>\n",
       "    <tr>\n",
       "      <th>523</th>\n",
       "      <td>1</td>\n",
       "      <td>First</td>\n",
       "    </tr>\n",
       "    <tr>\n",
       "      <th>658</th>\n",
       "      <td>3</td>\n",
       "      <td>Third</td>\n",
       "    </tr>\n",
       "    <tr>\n",
       "      <th>440</th>\n",
       "      <td>3</td>\n",
       "      <td>Third</td>\n",
       "    </tr>\n",
       "    <tr>\n",
       "      <th>734</th>\n",
       "      <td>3</td>\n",
       "      <td>Third</td>\n",
       "    </tr>\n",
       "    <tr>\n",
       "      <th>178</th>\n",
       "      <td>3</td>\n",
       "      <td>Third</td>\n",
       "    </tr>\n",
       "  </tbody>\n",
       "</table>\n",
       "</div>"
      ]
     },
     "execution_count": 65,
     "metadata": {},
     "output_type": "execute_result"
    }
   ],
   "execution_count": 65
  },
  {
   "metadata": {
    "ExecuteTime": {
     "end_time": "2024-12-31T03:49:34.193804Z",
     "start_time": "2024-12-31T03:49:34.175774Z"
    }
   },
   "cell_type": "code",
   "source": [
    "print(df[\"sibsp\"].unique(), df[\"parch\"].unique())\n",
    "df[[\"sibsp\", \"parch\"]].sample(5)"
   ],
   "id": "c0f322a36210c14a",
   "outputs": [
    {
     "name": "stdout",
     "output_type": "stream",
     "text": [
      "[1 0 3 4 2 5] [0 1 2 5 3 4 6]\n"
     ]
    },
    {
     "data": {
      "text/plain": [
       "     sibsp  parch\n",
       "532      0      0\n",
       "730      0      0\n",
       "419      0      0\n",
       "732      0      0\n",
       "463      0      0"
      ],
      "text/html": [
       "<div>\n",
       "<style scoped>\n",
       "    .dataframe tbody tr th:only-of-type {\n",
       "        vertical-align: middle;\n",
       "    }\n",
       "\n",
       "    .dataframe tbody tr th {\n",
       "        vertical-align: top;\n",
       "    }\n",
       "\n",
       "    .dataframe thead th {\n",
       "        text-align: right;\n",
       "    }\n",
       "</style>\n",
       "<table border=\"1\" class=\"dataframe\">\n",
       "  <thead>\n",
       "    <tr style=\"text-align: right;\">\n",
       "      <th></th>\n",
       "      <th>sibsp</th>\n",
       "      <th>parch</th>\n",
       "    </tr>\n",
       "  </thead>\n",
       "  <tbody>\n",
       "    <tr>\n",
       "      <th>532</th>\n",
       "      <td>0</td>\n",
       "      <td>0</td>\n",
       "    </tr>\n",
       "    <tr>\n",
       "      <th>730</th>\n",
       "      <td>0</td>\n",
       "      <td>0</td>\n",
       "    </tr>\n",
       "    <tr>\n",
       "      <th>419</th>\n",
       "      <td>0</td>\n",
       "      <td>0</td>\n",
       "    </tr>\n",
       "    <tr>\n",
       "      <th>732</th>\n",
       "      <td>0</td>\n",
       "      <td>0</td>\n",
       "    </tr>\n",
       "    <tr>\n",
       "      <th>463</th>\n",
       "      <td>0</td>\n",
       "      <td>0</td>\n",
       "    </tr>\n",
       "  </tbody>\n",
       "</table>\n",
       "</div>"
      ]
     },
     "execution_count": 66,
     "metadata": {},
     "output_type": "execute_result"
    }
   ],
   "execution_count": 66
  },
  {
   "metadata": {
    "ExecuteTime": {
     "end_time": "2024-12-31T03:49:34.446999Z",
     "start_time": "2024-12-31T03:49:34.427790Z"
    }
   },
   "cell_type": "code",
   "source": [
    "print(df[\"survived\"].unique(), df[\"alive\"].unique())\n",
    "df[[\"survived\", \"alive\"]].sample(10)"
   ],
   "id": "a21ab1882223adc1",
   "outputs": [
    {
     "name": "stdout",
     "output_type": "stream",
     "text": [
      "[0 1] ['no' 'yes']\n"
     ]
    },
    {
     "data": {
      "text/plain": [
       "     survived alive\n",
       "717         0    no\n",
       "82          0    no\n",
       "744         1   yes\n",
       "393         0    no\n",
       "730         0    no\n",
       "361         0    no\n",
       "142         0    no\n",
       "237         0    no\n",
       "592         0    no\n",
       "486         0    no"
      ],
      "text/html": [
       "<div>\n",
       "<style scoped>\n",
       "    .dataframe tbody tr th:only-of-type {\n",
       "        vertical-align: middle;\n",
       "    }\n",
       "\n",
       "    .dataframe tbody tr th {\n",
       "        vertical-align: top;\n",
       "    }\n",
       "\n",
       "    .dataframe thead th {\n",
       "        text-align: right;\n",
       "    }\n",
       "</style>\n",
       "<table border=\"1\" class=\"dataframe\">\n",
       "  <thead>\n",
       "    <tr style=\"text-align: right;\">\n",
       "      <th></th>\n",
       "      <th>survived</th>\n",
       "      <th>alive</th>\n",
       "    </tr>\n",
       "  </thead>\n",
       "  <tbody>\n",
       "    <tr>\n",
       "      <th>717</th>\n",
       "      <td>0</td>\n",
       "      <td>no</td>\n",
       "    </tr>\n",
       "    <tr>\n",
       "      <th>82</th>\n",
       "      <td>0</td>\n",
       "      <td>no</td>\n",
       "    </tr>\n",
       "    <tr>\n",
       "      <th>744</th>\n",
       "      <td>1</td>\n",
       "      <td>yes</td>\n",
       "    </tr>\n",
       "    <tr>\n",
       "      <th>393</th>\n",
       "      <td>0</td>\n",
       "      <td>no</td>\n",
       "    </tr>\n",
       "    <tr>\n",
       "      <th>730</th>\n",
       "      <td>0</td>\n",
       "      <td>no</td>\n",
       "    </tr>\n",
       "    <tr>\n",
       "      <th>361</th>\n",
       "      <td>0</td>\n",
       "      <td>no</td>\n",
       "    </tr>\n",
       "    <tr>\n",
       "      <th>142</th>\n",
       "      <td>0</td>\n",
       "      <td>no</td>\n",
       "    </tr>\n",
       "    <tr>\n",
       "      <th>237</th>\n",
       "      <td>0</td>\n",
       "      <td>no</td>\n",
       "    </tr>\n",
       "    <tr>\n",
       "      <th>592</th>\n",
       "      <td>0</td>\n",
       "      <td>no</td>\n",
       "    </tr>\n",
       "    <tr>\n",
       "      <th>486</th>\n",
       "      <td>0</td>\n",
       "      <td>no</td>\n",
       "    </tr>\n",
       "  </tbody>\n",
       "</table>\n",
       "</div>"
      ]
     },
     "execution_count": 67,
     "metadata": {},
     "output_type": "execute_result"
    }
   ],
   "execution_count": 67
  },
  {
   "metadata": {},
   "cell_type": "markdown",
   "source": "#### Drop Features\n",
   "id": "36f4ae61c2b22d32"
  },
  {
   "metadata": {
    "ExecuteTime": {
     "end_time": "2024-12-31T03:49:34.711325Z",
     "start_time": "2024-12-31T03:49:34.702326Z"
    }
   },
   "cell_type": "code",
   "source": [
    "# Dropping alone and adult_male because we can get same information from parch and who respectively, deck is insignificant with a lot of missing values, embarked and embark_town, pclass and class, alive and survived are same\n",
    "df.drop(columns = [\"alone\",\"deck\",\"embarked\", \"adult_male\", \"class\", \"alive\"], inplace=True)"
   ],
   "id": "3377aefd2dcb1fea",
   "outputs": [],
   "execution_count": 68
  },
  {
   "metadata": {},
   "cell_type": "markdown",
   "source": "#### Converting data types",
   "id": "fbe74ba20b57c438"
  },
  {
   "metadata": {
    "ExecuteTime": {
     "end_time": "2024-12-31T03:49:34.899704Z",
     "start_time": "2024-12-31T03:49:34.881501Z"
    }
   },
   "cell_type": "code",
   "source": [
    "df[[\"embark_town\", \"sex\", \"who\"]] = df[[\"embark_town\", \"sex\", \"who\"]].astype(\"category\")\n",
    "df[[\"pclass\", \"sibsp\", \"age\", \"parch\"]] = df[[\"pclass\", \"sibsp\", \"age\", \"parch\"]].astype(\"uint8\")\n",
    "df[[\"fare\"]] = df[[\"fare\"]].astype(\"uint16\")\n",
    "df[\"survived\"] = df[[\"survived\"]].astype(\"bool\")"
   ],
   "id": "11b089a891c46aeb",
   "outputs": [],
   "execution_count": 69
  },
  {
   "metadata": {},
   "cell_type": "markdown",
   "source": "### Exploratory Data Analysis",
   "id": "7f3c4b2c0270b279"
  },
  {
   "metadata": {
    "ExecuteTime": {
     "end_time": "2024-12-31T03:49:35.049798Z",
     "start_time": "2024-12-31T03:49:35.023299Z"
    }
   },
   "cell_type": "code",
   "source": "df.info()",
   "id": "55ae26430f2c5562",
   "outputs": [
    {
     "name": "stdout",
     "output_type": "stream",
     "text": [
      "<class 'pandas.core.frame.DataFrame'>\n",
      "RangeIndex: 775 entries, 0 to 774\n",
      "Data columns (total 9 columns):\n",
      " #   Column       Non-Null Count  Dtype   \n",
      "---  ------       --------------  -----   \n",
      " 0   survived     775 non-null    bool    \n",
      " 1   pclass       775 non-null    uint8   \n",
      " 2   sex          775 non-null    category\n",
      " 3   age          775 non-null    uint8   \n",
      " 4   sibsp        775 non-null    uint8   \n",
      " 5   parch        775 non-null    uint8   \n",
      " 6   fare         775 non-null    uint16  \n",
      " 7   who          775 non-null    category\n",
      " 8   embark_town  775 non-null    category\n",
      "dtypes: bool(1), category(3), uint16(1), uint8(4)\n",
      "memory usage: 8.1 KB\n"
     ]
    }
   ],
   "execution_count": 70
  },
  {
   "metadata": {},
   "cell_type": "markdown",
   "source": "#### Survivors by Passenger Type",
   "id": "faf6d974c621a757"
  },
  {
   "metadata": {
    "ExecuteTime": {
     "end_time": "2024-12-31T03:49:35.549701Z",
     "start_time": "2024-12-31T03:49:35.128861Z"
    }
   },
   "cell_type": "code",
   "source": [
    "survivors_count = df[df[\"survived\"] == True].groupby(\"who\")[\"survived\"].count()\n",
    "non_survivors_count = df[df[\"survived\"] == False].groupby(\"who\")[\"survived\"].count()\n",
    "\n",
    "combined_counts = pd.DataFrame({\n",
    "    \"Survivors\": survivors_count,\n",
    "    \"Non-Survivors\": non_survivors_count\n",
    "})\n",
    "\n",
    "combined_counts.plot(kind='bar')\n",
    "plt.title(\"Survivors and Non-Survivors by Passenger Type\")\n",
    "plt.xlabel(\"Passenger Type\")\n",
    "plt.ylabel(\"Count\")\n",
    "plt.xticks(rotation=0)\n",
    "plt.show()\n",
    "print(combined_counts)"
   ],
   "id": "2c6d4fc206f4796",
   "outputs": [
    {
     "name": "stderr",
     "output_type": "stream",
     "text": [
      "C:\\Users\\Shahzaib Khan\\AppData\\Local\\Temp\\ipykernel_20152\\1246010431.py:1: FutureWarning: The default of observed=False is deprecated and will be changed to True in a future version of pandas. Pass observed=False to retain current behavior or observed=True to adopt the future default and silence this warning.\n",
      "  survivors_count = df[df[\"survived\"] == True].groupby(\"who\")[\"survived\"].count()\n",
      "C:\\Users\\Shahzaib Khan\\AppData\\Local\\Temp\\ipykernel_20152\\1246010431.py:2: FutureWarning: The default of observed=False is deprecated and will be changed to True in a future version of pandas. Pass observed=False to retain current behavior or observed=True to adopt the future default and silence this warning.\n",
      "  non_survivors_count = df[df[\"survived\"] == False].groupby(\"who\")[\"survived\"].count()\n"
     ]
    },
    {
     "data": {
      "text/plain": [
       "<Figure size 640x480 with 1 Axes>"
      ],
      "image/png": "[encoded data removed]"
     },
     "metadata": {},
     "output_type": "display_data"
    },
    {
     "name": "stdout",
     "output_type": "stream",
     "text": [
      "       Survivors  Non-Survivors\n",
      "who                            \n",
      "child         44             33\n",
      "man           77            417\n",
      "woman        142             62\n"
     ]
    }
   ],
   "execution_count": 71
  },
  {
   "metadata": {},
   "cell_type": "markdown",
   "source": "\n",
   "id": "e1b035c06ca2641d"
  },
  {
   "metadata": {
    "ExecuteTime": {
     "end_time": "2024-12-31T03:49:36.498786Z",
     "start_time": "2024-12-31T03:49:35.587792Z"
    }
   },
   "cell_type": "code",
   "source": [
    "# Data preparation\n",
    "total_count = df[\"embark_town\"].value_counts()  # Total passengers by embark_town\n",
    "survived_count = df[df[\"survived\"] == 1][\"embark_town\"].value_counts()  # Survivors by embark_town\n",
    "non_survivors_count = df[df[\"survived\"] == 0][\"embark_town\"].value_counts()  # Non-survivors by embark_town\n",
    "\n",
    "# Create subplots\n",
    "fig, axes = plt.subplots(1, 3, figsize=(18, 5))  # 1 row, 3 columns\n",
    "\n",
    "# Plot total distribution\n",
    "total_count.plot(kind=\"bar\", ax=axes[0], color=\"skyblue\", title=\"Embark Town Distribution\")\n",
    "axes[0].set_xlabel(\"Embark Town\")\n",
    "axes[0].set_ylabel(\"Count\")\n",
    "axes[0].set_xticks(range(len(total_count.index)))\n",
    "axes[0].set_xticklabels(total_count.index, rotation=0)\n",
    "\n",
    "# Plot survivors distribution\n",
    "survived_count.plot(kind=\"bar\", ax=axes[1], color=\"green\", title=\"Survivors from Embark Town\")\n",
    "axes[1].set_xlabel(\"Embark Town\")\n",
    "axes[1].set_ylabel(\"Count\")\n",
    "axes[1].set_xticks(range(len(total_count.index)))\n",
    "axes[1].set_xticklabels(total_count.index, rotation=0)\n",
    "\n",
    "# Plot non-survivors distribution\n",
    "non_survivors_count.plot(kind=\"bar\", ax=axes[2], color=\"red\", title=\"Non-Survivors from Embark Town\")\n",
    "axes[2].set_xlabel(\"Embark Town\")\n",
    "axes[2].set_ylabel(\"Count\")\n",
    "axes[2].set_xticks(range(len(total_count.index)))\n",
    "axes[2].set_xticklabels(total_count.index, rotation=0)\n",
    "\n",
    "plt.show()"
   ],
   "id": "8babe100e115568d",
   "outputs": [
    {
     "data": {
      "text/plain": [
       "<Figure size 1800x500 with 3 Axes>"
      ],
      "image/png": "[encoded data removed]"
     },
     "metadata": {},
     "output_type": "display_data"
    }
   ],
   "execution_count": 72
  }
 ],
 "metadata": {
  "kernelspec": {
   "display_name": "Python 3",
   "language": "python",
   "name": "python3"
  },
  "language_info": {
   "codemirror_mode": {
    "name": "ipython",
    "version": 2
   },
   "file_extension": ".py",
   "mimetype": "text/x-python",
   "name": "python",
   "nbconvert_exporter": "python",
   "pygments_lexer": "ipython2",
   "version": "2.7.6"
  }
 },
 "nbformat": 4,
 "nbformat_minor": 5
}
